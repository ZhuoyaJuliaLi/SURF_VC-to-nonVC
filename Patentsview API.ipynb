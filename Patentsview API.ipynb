{
 "cells": [
  {
   "cell_type": "markdown",
   "id": "82e4541e-6591-4a13-a794-a74e53f939e7",
   "metadata": {},
   "source": [
    "## This below is using the API to extract patent data from Patentsview"
   ]
  },
  {
   "cell_type": "code",
   "execution_count": null,
   "id": "ec4d80e3-aba9-49b5-9867-b639f0b2a1bd",
   "metadata": {},
   "outputs": [],
   "source": [
    "# Use a simple example of the patents view to test and view the output\n",
    "import requests\n",
    "url = 'https://api.patentsview.org/patents/query'\n",
    "r = requests.post(url,  json = {\"q\":{\"_gte\":{\"patent_date\":\"2022-01-04\"}},\"f\":[\"patent_number\",\"patent_date\",\"inventor_last_name\"]} )"
   ]
  },
  {
   "cell_type": "code",
   "execution_count": null,
   "id": "ccc9734b-140e-443b-9a7c-2a9dcffc062d",
   "metadata": {},
   "outputs": [],
   "source": [
    "#load the dataset for pulling information from patentsview\n",
    "patentori=pd.read_csv(\"Cominfo_forpatent.csv\")"
   ]
  },
  {
   "cell_type": "code",
   "execution_count": null,
   "id": "b6bb1d0a-64ee-40cd-ba73-2795cc441784",
   "metadata": {},
   "outputs": [],
   "source": [
    "#small testing sample\n",
    "patentori10=patentori.head(100)"
   ]
  },
  {
   "cell_type": "code",
   "execution_count": null,
   "id": "50931abf-fd50-49da-9b3a-f296447b893a",
   "metadata": {},
   "outputs": [],
   "source": [
    "#create an empty dataframe to store the API given information\n",
    "pa_df = pd.DataFrame(columns=['company','patents', 'count', 'total_patent_count'])"
   ]
  },
  {
   "cell_type": "code",
   "execution_count": null,
   "id": "105316ea-844b-4659-931a-735993d01a94",
   "metadata": {},
   "outputs": [],
   "source": [
    "# similar to prior method, this also uses a while loop to find the number of patents for each company \n",
    "import requests\n",
    "url = 'https://api.patentsview.org/patents/query'\n",
    "i=0\n",
    "while i<=99: #loop through the hundred comapnies\n",
    "    company=patentori10.iloc[i].newconm #the information needed (name fo the assignee) for finding the patents \n",
    "    year=patentori10.iloc[i].year_IPO #restriction of the time\n",
    "    year=str(year) #so it can be added to the query request\n",
    "    companyname=patentori10.iloc[i].conm #to add into the dataframe\n",
    "    r = requests.post(url,  json ={\"q\":{\"_begins\":{\"assignee_organization\":\"\"+company+\"\"}},\"f\":[\"assignee_organization\",\"patent_number\",\"patent_title\",\"patent_date\"]})\n",
    "    r_data=json.loads(r.text) #turn into dict type output\n",
    "    pa_info=[] #patent information first stored in a list\n",
    "    pa_info=list(r_data.values()) #add the values of the dictionary to the empty list\n",
    "    pa_info.insert(0,companyname) \n",
    "    pa_df.loc[len(pa_df)] = pa_info #append each list as the new row in the dataframe\n",
    "    i+=1"
   ]
  },
  {
   "cell_type": "code",
   "execution_count": null,
   "id": "83da798d-8bb3-4502-9aa6-38d83988870c",
   "metadata": {},
   "outputs": [],
   "source": [
    "pa_df"
   ]
  },
  {
   "cell_type": "code",
   "execution_count": null,
   "id": "76f07f15-79ba-4941-adde-84ba9f7e8e0b",
   "metadata": {},
   "outputs": [],
   "source": [
    "pa_df.to_csv('Patent_tillnow.csv', encoding='utf-8', index=False)"
   ]
  }
 ],
 "metadata": {
  "kernelspec": {
   "display_name": "Python 3 (ipykernel)",
   "language": "python",
   "name": "python3"
  },
  "language_info": {
   "codemirror_mode": {
    "name": "ipython",
    "version": 3
   },
   "file_extension": ".py",
   "mimetype": "text/x-python",
   "name": "python",
   "nbconvert_exporter": "python",
   "pygments_lexer": "ipython3",
   "version": "3.9.7"
  }
 },
 "nbformat": 4,
 "nbformat_minor": 5
}
